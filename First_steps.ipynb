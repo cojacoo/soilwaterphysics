{
 "cells": [
  {
   "cell_type": "markdown",
   "id": "casual-victory",
   "metadata": {},
   "source": [
    "## Zero to ~~hero~~ starter with Python and data science\n",
    "\n",
    "This is a far too brief crash course to get started with Python. We use jupyter notebooks as interface to this programming language. Our focus is on reading and analysing environmental data. The examples will be related to hydropedological topics. To get there quickly, we will largely ignore most of the details about data types, storage allocation behaviour, different modules etc.\n",
    "\n",
    "Let's go.\n",
    "\n",
    "(cc) conrad.jackisch@tbt.tu-freiberg.de, Dec 09, 2021"
   ]
  },
  {
   "cell_type": "markdown",
   "id": "boring-essex",
   "metadata": {},
   "source": [
    "### The Notebooks and how to use them\n",
    "Please double click this text. You will enter the edit-mode. The cell type is set to *Markdown* to interpret this code as nice text. You can also enter some equations like this one:\n",
    "$$\\theta = \\frac{V_{water}}{V_{total}}$$\n",
    "\n",
    "The default cell type is *Code* which allows you to enter a couple of python commands. To execute the code, just hit `Shift+Enter` somewhere in the cell."
   ]
  },
  {
   "cell_type": "code",
   "execution_count": 32,
   "id": "authentic-concrete",
   "metadata": {},
   "outputs": [
    {
     "name": "stdout",
     "output_type": "stream",
     "text": [
      "Populating the interactive namespace from numpy and matplotlib\n"
     ]
    }
   ],
   "source": [
    "# in a code cell, a line starting with hash is ignored\n",
    "# it is always good to write comments about what happens here\n",
    "\n",
    "# here we load a couple of modules which are frequently needed\n",
    "%pylab inline        \n",
    "# PyLab is a collection of numerical and plotting libraries including NumPy and Matplotlib\n",
    "import pandas as pd   #Pandas makes data exploration a breeze\n",
    "import seaborn as sns #Seaborn makes nice plots\n",
    "sns.set(style='whitegrid', palette='deep') #this are some settings for seaborn"
   ]
  },
  {
   "cell_type": "markdown",
   "id": "bronze-analyst",
   "metadata": {},
   "source": [
    "### Some random data and respective analyses\n",
    "Let's generate a couple of random data values and explore what we have got.\n",
    "\n",
    " * `pd` refers to functions from the *Pandas* module.\n",
    " * `np` refers to functions from the *NumPy* module.\n",
    " * Round brackets contain arguments for a function `function(argument)` or can be a tuple `(number,number)`.\n",
    " * Corner brackets contain indexes `array[index]` or can be lists `[element,element]`."
   ]
  },
  {
   "cell_type": "code",
   "execution_count": 14,
   "id": "answering-guitar",
   "metadata": {},
   "outputs": [
    {
     "data": {
      "text/html": [
       "<div>\n",
       "<style scoped>\n",
       "    .dataframe tbody tr th:only-of-type {\n",
       "        vertical-align: middle;\n",
       "    }\n",
       "\n",
       "    .dataframe tbody tr th {\n",
       "        vertical-align: top;\n",
       "    }\n",
       "\n",
       "    .dataframe thead th {\n",
       "        text-align: right;\n",
       "    }\n",
       "</style>\n",
       "<table border=\"1\" class=\"dataframe\">\n",
       "  <thead>\n",
       "    <tr style=\"text-align: right;\">\n",
       "      <th></th>\n",
       "      <th>0</th>\n",
       "      <th>1</th>\n",
       "    </tr>\n",
       "  </thead>\n",
       "  <tbody>\n",
       "    <tr>\n",
       "      <th>0</th>\n",
       "      <td>0.617235</td>\n",
       "      <td>0.737670</td>\n",
       "    </tr>\n",
       "    <tr>\n",
       "      <th>1</th>\n",
       "      <td>0.383482</td>\n",
       "      <td>0.613037</td>\n",
       "    </tr>\n",
       "    <tr>\n",
       "      <th>2</th>\n",
       "      <td>0.143101</td>\n",
       "      <td>0.744554</td>\n",
       "    </tr>\n",
       "    <tr>\n",
       "      <th>3</th>\n",
       "      <td>0.966133</td>\n",
       "      <td>0.386775</td>\n",
       "    </tr>\n",
       "    <tr>\n",
       "      <th>4</th>\n",
       "      <td>0.972431</td>\n",
       "      <td>0.260685</td>\n",
       "    </tr>\n",
       "    <tr>\n",
       "      <th>5</th>\n",
       "      <td>0.134084</td>\n",
       "      <td>0.081528</td>\n",
       "    </tr>\n",
       "    <tr>\n",
       "      <th>6</th>\n",
       "      <td>0.709197</td>\n",
       "      <td>0.648434</td>\n",
       "    </tr>\n",
       "    <tr>\n",
       "      <th>7</th>\n",
       "      <td>0.737722</td>\n",
       "      <td>0.865643</td>\n",
       "    </tr>\n",
       "    <tr>\n",
       "      <th>8</th>\n",
       "      <td>0.498273</td>\n",
       "      <td>0.091231</td>\n",
       "    </tr>\n",
       "    <tr>\n",
       "      <th>9</th>\n",
       "      <td>0.581464</td>\n",
       "      <td>0.090446</td>\n",
       "    </tr>\n",
       "    <tr>\n",
       "      <th>10</th>\n",
       "      <td>0.009070</td>\n",
       "      <td>0.817815</td>\n",
       "    </tr>\n",
       "    <tr>\n",
       "      <th>11</th>\n",
       "      <td>0.931080</td>\n",
       "      <td>0.156741</td>\n",
       "    </tr>\n",
       "    <tr>\n",
       "      <th>12</th>\n",
       "      <td>0.063537</td>\n",
       "      <td>0.079888</td>\n",
       "    </tr>\n",
       "    <tr>\n",
       "      <th>13</th>\n",
       "      <td>0.881981</td>\n",
       "      <td>0.686338</td>\n",
       "    </tr>\n",
       "    <tr>\n",
       "      <th>14</th>\n",
       "      <td>0.250088</td>\n",
       "      <td>0.261382</td>\n",
       "    </tr>\n",
       "    <tr>\n",
       "      <th>15</th>\n",
       "      <td>0.776754</td>\n",
       "      <td>0.744193</td>\n",
       "    </tr>\n",
       "    <tr>\n",
       "      <th>16</th>\n",
       "      <td>0.064065</td>\n",
       "      <td>0.185239</td>\n",
       "    </tr>\n",
       "    <tr>\n",
       "      <th>17</th>\n",
       "      <td>0.000667</td>\n",
       "      <td>0.425051</td>\n",
       "    </tr>\n",
       "    <tr>\n",
       "      <th>18</th>\n",
       "      <td>0.359599</td>\n",
       "      <td>0.424006</td>\n",
       "    </tr>\n",
       "    <tr>\n",
       "      <th>19</th>\n",
       "      <td>0.326116</td>\n",
       "      <td>0.722511</td>\n",
       "    </tr>\n",
       "  </tbody>\n",
       "</table>\n",
       "</div>"
      ],
      "text/plain": [
       "           0         1\n",
       "0   0.617235  0.737670\n",
       "1   0.383482  0.613037\n",
       "2   0.143101  0.744554\n",
       "3   0.966133  0.386775\n",
       "4   0.972431  0.260685\n",
       "5   0.134084  0.081528\n",
       "6   0.709197  0.648434\n",
       "7   0.737722  0.865643\n",
       "8   0.498273  0.091231\n",
       "9   0.581464  0.090446\n",
       "10  0.009070  0.817815\n",
       "11  0.931080  0.156741\n",
       "12  0.063537  0.079888\n",
       "13  0.881981  0.686338\n",
       "14  0.250088  0.261382\n",
       "15  0.776754  0.744193\n",
       "16  0.064065  0.185239\n",
       "17  0.000667  0.425051\n",
       "18  0.359599  0.424006\n",
       "19  0.326116  0.722511"
      ]
     },
     "execution_count": 14,
     "metadata": {},
     "output_type": "execute_result"
    }
   ],
   "source": [
    "# 2 columns of 20 random values each through the function np.random.random()\n",
    "# converted to a pandas DataFrame through the respective function pd.DataFrame()\n",
    "# stored in the object data using '='\n",
    "\n",
    "data = pd.DataFrame(np.random.random((20,2)))\n",
    "\n",
    "# you can print the data frame:\n",
    "data"
   ]
  },
  {
   "cell_type": "code",
   "execution_count": 15,
   "id": "shaped-graduation",
   "metadata": {},
   "outputs": [
    {
     "data": {
      "text/html": [
       "<div>\n",
       "<style scoped>\n",
       "    .dataframe tbody tr th:only-of-type {\n",
       "        vertical-align: middle;\n",
       "    }\n",
       "\n",
       "    .dataframe tbody tr th {\n",
       "        vertical-align: top;\n",
       "    }\n",
       "\n",
       "    .dataframe thead th {\n",
       "        text-align: right;\n",
       "    }\n",
       "</style>\n",
       "<table border=\"1\" class=\"dataframe\">\n",
       "  <thead>\n",
       "    <tr style=\"text-align: right;\">\n",
       "      <th></th>\n",
       "      <th>0</th>\n",
       "      <th>1</th>\n",
       "      <th>2</th>\n",
       "      <th>3</th>\n",
       "      <th>4</th>\n",
       "      <th>5</th>\n",
       "      <th>6</th>\n",
       "      <th>7</th>\n",
       "      <th>8</th>\n",
       "      <th>9</th>\n",
       "      <th>10</th>\n",
       "      <th>11</th>\n",
       "      <th>12</th>\n",
       "      <th>13</th>\n",
       "      <th>14</th>\n",
       "      <th>15</th>\n",
       "      <th>16</th>\n",
       "      <th>17</th>\n",
       "      <th>18</th>\n",
       "      <th>19</th>\n",
       "    </tr>\n",
       "  </thead>\n",
       "  <tbody>\n",
       "    <tr>\n",
       "      <th>0</th>\n",
       "      <td>0.617235</td>\n",
       "      <td>0.383482</td>\n",
       "      <td>0.143101</td>\n",
       "      <td>0.966133</td>\n",
       "      <td>0.972431</td>\n",
       "      <td>0.134084</td>\n",
       "      <td>0.709197</td>\n",
       "      <td>0.737722</td>\n",
       "      <td>0.498273</td>\n",
       "      <td>0.581464</td>\n",
       "      <td>0.009070</td>\n",
       "      <td>0.931080</td>\n",
       "      <td>0.063537</td>\n",
       "      <td>0.881981</td>\n",
       "      <td>0.250088</td>\n",
       "      <td>0.776754</td>\n",
       "      <td>0.064065</td>\n",
       "      <td>0.000667</td>\n",
       "      <td>0.359599</td>\n",
       "      <td>0.326116</td>\n",
       "    </tr>\n",
       "    <tr>\n",
       "      <th>1</th>\n",
       "      <td>0.737670</td>\n",
       "      <td>0.613037</td>\n",
       "      <td>0.744554</td>\n",
       "      <td>0.386775</td>\n",
       "      <td>0.260685</td>\n",
       "      <td>0.081528</td>\n",
       "      <td>0.648434</td>\n",
       "      <td>0.865643</td>\n",
       "      <td>0.091231</td>\n",
       "      <td>0.090446</td>\n",
       "      <td>0.817815</td>\n",
       "      <td>0.156741</td>\n",
       "      <td>0.079888</td>\n",
       "      <td>0.686338</td>\n",
       "      <td>0.261382</td>\n",
       "      <td>0.744193</td>\n",
       "      <td>0.185239</td>\n",
       "      <td>0.425051</td>\n",
       "      <td>0.424006</td>\n",
       "      <td>0.722511</td>\n",
       "    </tr>\n",
       "  </tbody>\n",
       "</table>\n",
       "</div>"
      ],
      "text/plain": [
       "         0         1         2         3         4         5         6   \\\n",
       "0  0.617235  0.383482  0.143101  0.966133  0.972431  0.134084  0.709197   \n",
       "1  0.737670  0.613037  0.744554  0.386775  0.260685  0.081528  0.648434   \n",
       "\n",
       "         7         8         9         10        11        12        13  \\\n",
       "0  0.737722  0.498273  0.581464  0.009070  0.931080  0.063537  0.881981   \n",
       "1  0.865643  0.091231  0.090446  0.817815  0.156741  0.079888  0.686338   \n",
       "\n",
       "         14        15        16        17        18        19  \n",
       "0  0.250088  0.776754  0.064065  0.000667  0.359599  0.326116  \n",
       "1  0.261382  0.744193  0.185239  0.425051  0.424006  0.722511  "
      ]
     },
     "execution_count": 15,
     "metadata": {},
     "output_type": "execute_result"
    }
   ],
   "source": [
    "# you can transpose the data frame (but here it is not stored)\n",
    "data.T"
   ]
  },
  {
   "cell_type": "code",
   "execution_count": 21,
   "id": "duplicate-failure",
   "metadata": {},
   "outputs": [
    {
     "data": {
      "text/html": [
       "<div>\n",
       "<style scoped>\n",
       "    .dataframe tbody tr th:only-of-type {\n",
       "        vertical-align: middle;\n",
       "    }\n",
       "\n",
       "    .dataframe tbody tr th {\n",
       "        vertical-align: top;\n",
       "    }\n",
       "\n",
       "    .dataframe thead th {\n",
       "        text-align: right;\n",
       "    }\n",
       "</style>\n",
       "<table border=\"1\" class=\"dataframe\">\n",
       "  <thead>\n",
       "    <tr style=\"text-align: right;\">\n",
       "      <th></th>\n",
       "      <th>birds</th>\n",
       "      <th>monkeys</th>\n",
       "    </tr>\n",
       "  </thead>\n",
       "  <tbody>\n",
       "    <tr>\n",
       "      <th>2020-07-01 12:00:00</th>\n",
       "      <td>0.617235</td>\n",
       "      <td>0.737670</td>\n",
       "    </tr>\n",
       "    <tr>\n",
       "      <th>2020-07-01 13:00:00</th>\n",
       "      <td>0.383482</td>\n",
       "      <td>0.613037</td>\n",
       "    </tr>\n",
       "    <tr>\n",
       "      <th>2020-07-01 14:00:00</th>\n",
       "      <td>0.143101</td>\n",
       "      <td>0.744554</td>\n",
       "    </tr>\n",
       "    <tr>\n",
       "      <th>2020-07-01 15:00:00</th>\n",
       "      <td>0.966133</td>\n",
       "      <td>0.386775</td>\n",
       "    </tr>\n",
       "    <tr>\n",
       "      <th>2020-07-01 16:00:00</th>\n",
       "      <td>0.972431</td>\n",
       "      <td>0.260685</td>\n",
       "    </tr>\n",
       "    <tr>\n",
       "      <th>2020-07-01 17:00:00</th>\n",
       "      <td>0.134084</td>\n",
       "      <td>0.081528</td>\n",
       "    </tr>\n",
       "    <tr>\n",
       "      <th>2020-07-01 18:00:00</th>\n",
       "      <td>0.709197</td>\n",
       "      <td>0.648434</td>\n",
       "    </tr>\n",
       "    <tr>\n",
       "      <th>2020-07-01 19:00:00</th>\n",
       "      <td>0.737722</td>\n",
       "      <td>0.865643</td>\n",
       "    </tr>\n",
       "    <tr>\n",
       "      <th>2020-07-01 20:00:00</th>\n",
       "      <td>0.498273</td>\n",
       "      <td>0.091231</td>\n",
       "    </tr>\n",
       "    <tr>\n",
       "      <th>2020-07-01 21:00:00</th>\n",
       "      <td>0.581464</td>\n",
       "      <td>0.090446</td>\n",
       "    </tr>\n",
       "    <tr>\n",
       "      <th>2020-07-01 22:00:00</th>\n",
       "      <td>0.009070</td>\n",
       "      <td>0.817815</td>\n",
       "    </tr>\n",
       "    <tr>\n",
       "      <th>2020-07-01 23:00:00</th>\n",
       "      <td>0.931080</td>\n",
       "      <td>0.156741</td>\n",
       "    </tr>\n",
       "    <tr>\n",
       "      <th>2020-07-02 00:00:00</th>\n",
       "      <td>0.063537</td>\n",
       "      <td>0.079888</td>\n",
       "    </tr>\n",
       "    <tr>\n",
       "      <th>2020-07-02 01:00:00</th>\n",
       "      <td>0.881981</td>\n",
       "      <td>0.686338</td>\n",
       "    </tr>\n",
       "    <tr>\n",
       "      <th>2020-07-02 02:00:00</th>\n",
       "      <td>0.250088</td>\n",
       "      <td>0.261382</td>\n",
       "    </tr>\n",
       "    <tr>\n",
       "      <th>2020-07-02 03:00:00</th>\n",
       "      <td>0.776754</td>\n",
       "      <td>0.744193</td>\n",
       "    </tr>\n",
       "    <tr>\n",
       "      <th>2020-07-02 04:00:00</th>\n",
       "      <td>0.064065</td>\n",
       "      <td>0.185239</td>\n",
       "    </tr>\n",
       "    <tr>\n",
       "      <th>2020-07-02 05:00:00</th>\n",
       "      <td>0.000667</td>\n",
       "      <td>0.425051</td>\n",
       "    </tr>\n",
       "    <tr>\n",
       "      <th>2020-07-02 06:00:00</th>\n",
       "      <td>0.359599</td>\n",
       "      <td>0.424006</td>\n",
       "    </tr>\n",
       "    <tr>\n",
       "      <th>2020-07-02 07:00:00</th>\n",
       "      <td>0.326116</td>\n",
       "      <td>0.722511</td>\n",
       "    </tr>\n",
       "  </tbody>\n",
       "</table>\n",
       "</div>"
      ],
      "text/plain": [
       "                        birds   monkeys\n",
       "2020-07-01 12:00:00  0.617235  0.737670\n",
       "2020-07-01 13:00:00  0.383482  0.613037\n",
       "2020-07-01 14:00:00  0.143101  0.744554\n",
       "2020-07-01 15:00:00  0.966133  0.386775\n",
       "2020-07-01 16:00:00  0.972431  0.260685\n",
       "2020-07-01 17:00:00  0.134084  0.081528\n",
       "2020-07-01 18:00:00  0.709197  0.648434\n",
       "2020-07-01 19:00:00  0.737722  0.865643\n",
       "2020-07-01 20:00:00  0.498273  0.091231\n",
       "2020-07-01 21:00:00  0.581464  0.090446\n",
       "2020-07-01 22:00:00  0.009070  0.817815\n",
       "2020-07-01 23:00:00  0.931080  0.156741\n",
       "2020-07-02 00:00:00  0.063537  0.079888\n",
       "2020-07-02 01:00:00  0.881981  0.686338\n",
       "2020-07-02 02:00:00  0.250088  0.261382\n",
       "2020-07-02 03:00:00  0.776754  0.744193\n",
       "2020-07-02 04:00:00  0.064065  0.185239\n",
       "2020-07-02 05:00:00  0.000667  0.425051\n",
       "2020-07-02 06:00:00  0.359599  0.424006\n",
       "2020-07-02 07:00:00  0.326116  0.722511"
      ]
     },
     "execution_count": 21,
     "metadata": {},
     "output_type": "execute_result"
    }
   ],
   "source": [
    "# you can give the data frame a new index and column names\n",
    "# we like to make it a time series of 'birds' and 'monkeys' starting 2020-07-01 12:00 stepping hourly\n",
    "data.index = pd.to_datetime(np.arange(len(data)), unit='h', origin=pd.Timestamp('2020-07-01 12:00:00'))\n",
    "data.columns = ['birds', 'monkeys']\n",
    "data"
   ]
  },
  {
   "cell_type": "markdown",
   "id": "greek-fleet",
   "metadata": {},
   "source": [
    "### Now some plots"
   ]
  },
  {
   "cell_type": "code",
   "execution_count": 51,
   "id": "subjective-haiti",
   "metadata": {},
   "outputs": [
    {
     "data": {
      "text/plain": [
       "<matplotlib.axes._subplots.AxesSubplot at 0x7fd5342a0080>"
      ]
     },
     "execution_count": 51,
     "metadata": {},
     "output_type": "execute_result"
    },
    {
     "data": {
      "image/png": "[encoded data removed]",
      "text/plain": [
       "<Figure size 432x216 with 1 Axes>"
      ]
     },
     "metadata": {},
     "output_type": "display_data"
    }
   ],
   "source": [
    "figsize(6,3)\n",
    "data.plot()"
   ]
  },
  {
   "cell_type": "code",
   "execution_count": 56,
   "id": "julian-christopher",
   "metadata": {},
   "outputs": [
    {
     "data": {
      "text/plain": [
       "<matplotlib.legend.Legend at 0x7fd5344fcb70>"
      ]
     },
     "execution_count": 56,
     "metadata": {},
     "output_type": "execute_result"
    },
    {
     "data": {
      "image/png": "[encoded data removed]",
      "text/plain": [
       "<Figure size 432x216 with 1 Axes>"
      ]
     },
     "metadata": {},
     "output_type": "display_data"
    }
   ],
   "source": [
    "plot(data.birds,'o-',c='skyblue',label='birds')\n",
    "plot(data.monkeys,'.:',c='magenta',label='monkeys')\n",
    "legend()"
   ]
  },
  {
   "cell_type": "markdown",
   "id": "baking-sleep",
   "metadata": {},
   "source": [
    "Play with the plots above and change the appearance.\n",
    "\n",
    " * Colours: https://matplotlib.org/stable/gallery/color/named_colors.html\n",
    " * Linestyles: https://matplotlib.org/stable/gallery/lines_bars_and_markers/linestyles.html\n",
    " * Figsize: Definition of ratio and size of the figure"
   ]
  },
  {
   "cell_type": "markdown",
   "id": "thrown-former",
   "metadata": {},
   "source": [
    "### More plots"
   ]
  },
  {
   "cell_type": "code",
   "execution_count": 68,
   "id": "appreciated-female",
   "metadata": {},
   "outputs": [
    {
     "data": {
      "text/plain": [
       "(-0.1, 1.1)"
      ]
     },
     "execution_count": 68,
     "metadata": {},
     "output_type": "execute_result"
    },
    {
     "data": {
      "image/png": "[encoded data removed]",
      "text/plain": [
       "<Figure size 443.6x360 with 1 Axes>"
      ]
     },
     "metadata": {},
     "output_type": "display_data"
    }
   ],
   "source": [
    "sns.displot(data, kde=True)\n",
    "xlim(-0.1,1.1)"
   ]
  },
  {
   "cell_type": "code",
   "execution_count": 73,
   "id": "confirmed-excellence",
   "metadata": {},
   "outputs": [
    {
     "data": {
      "text/plain": [
       "Text(0, 0.5, 'monkeys')"
      ]
     },
     "execution_count": 73,
     "metadata": {},
     "output_type": "execute_result"
    },
    {
     "data": {
      "image/png": "[encoded data removed]",
      "text/plain": [
       "<Figure size 288x288 with 1 Axes>"
      ]
     },
     "metadata": {},
     "output_type": "display_data"
    }
   ],
   "source": [
    "figsize(4,4)\n",
    "plot(data.birds, data.monkeys, 'o')\n",
    "plot([0,1],[0,1],':',c='k',alpha=0.3)\n",
    "xlabel('birds')\n",
    "ylabel('monkeys')"
   ]
  },
  {
   "cell_type": "markdown",
   "id": "casual-mistake",
   "metadata": {},
   "source": [
    "In order to save a plot, you can use the following command inside the respective cell:\n",
    "`savefig('file.pdf',bbox_inches='tight')`"
   ]
  },
  {
   "cell_type": "markdown",
   "id": "threaded-belly",
   "metadata": {},
   "source": [
    "## Read data and plot it\n",
    "In most cases, we will need to read data. That is quite easy when the data is somewhat structured. Excel, csv or hdf5 files are quickly handled with: `pd.read_excel('file.xlsx', sheet_name='Sheet')`, `pd.read_csv('file.csv')`, `pd.read_hdf('file.hdf')`"
   ]
  },
  {
   "cell_type": "code",
   "execution_count": 75,
   "id": "double-hampshire",
   "metadata": {},
   "outputs": [
    {
     "data": {
      "text/html": [
       "<div>\n",
       "<style scoped>\n",
       "    .dataframe tbody tr th:only-of-type {\n",
       "        vertical-align: middle;\n",
       "    }\n",
       "\n",
       "    .dataframe tbody tr th {\n",
       "        vertical-align: top;\n",
       "    }\n",
       "\n",
       "    .dataframe thead th {\n",
       "        text-align: right;\n",
       "    }\n",
       "</style>\n",
       "<table border=\"1\" class=\"dataframe\">\n",
       "  <thead>\n",
       "    <tr style=\"text-align: right;\">\n",
       "      <th></th>\n",
       "      <th>pF [-]</th>\n",
       "      <th>Water Content [Vol%]</th>\n",
       "      <th>Weight [-]</th>\n",
       "    </tr>\n",
       "  </thead>\n",
       "  <tbody>\n",
       "    <tr>\n",
       "      <th>0</th>\n",
       "      <td>0.839</td>\n",
       "      <td>51.97</td>\n",
       "      <td>NaN</td>\n",
       "    </tr>\n",
       "    <tr>\n",
       "      <th>1</th>\n",
       "      <td>0.840</td>\n",
       "      <td>51.97</td>\n",
       "      <td>NaN</td>\n",
       "    </tr>\n",
       "    <tr>\n",
       "      <th>2</th>\n",
       "      <td>0.841</td>\n",
       "      <td>51.95</td>\n",
       "      <td>NaN</td>\n",
       "    </tr>\n",
       "    <tr>\n",
       "      <th>3</th>\n",
       "      <td>0.841</td>\n",
       "      <td>51.93</td>\n",
       "      <td>NaN</td>\n",
       "    </tr>\n",
       "    <tr>\n",
       "      <th>4</th>\n",
       "      <td>0.846</td>\n",
       "      <td>51.91</td>\n",
       "      <td>NaN</td>\n",
       "    </tr>\n",
       "    <tr>\n",
       "      <th>...</th>\n",
       "      <td>...</td>\n",
       "      <td>...</td>\n",
       "      <td>...</td>\n",
       "    </tr>\n",
       "    <tr>\n",
       "      <th>98</th>\n",
       "      <td>2.908</td>\n",
       "      <td>21.60</td>\n",
       "      <td>NaN</td>\n",
       "    </tr>\n",
       "    <tr>\n",
       "      <th>99</th>\n",
       "      <td>4.050</td>\n",
       "      <td>12.23</td>\n",
       "      <td>3.0</td>\n",
       "    </tr>\n",
       "    <tr>\n",
       "      <th>100</th>\n",
       "      <td>4.820</td>\n",
       "      <td>8.48</td>\n",
       "      <td>2.0</td>\n",
       "    </tr>\n",
       "    <tr>\n",
       "      <th>101</th>\n",
       "      <td>5.420</td>\n",
       "      <td>5.06</td>\n",
       "      <td>6.0</td>\n",
       "    </tr>\n",
       "    <tr>\n",
       "      <th>102</th>\n",
       "      <td>5.810</td>\n",
       "      <td>3.35</td>\n",
       "      <td>2.0</td>\n",
       "    </tr>\n",
       "  </tbody>\n",
       "</table>\n",
       "<p>103 rows × 3 columns</p>\n",
       "</div>"
      ],
      "text/plain": [
       "     pF [-]  Water Content [Vol%]  Weight [-]\n",
       "0     0.839                 51.97         NaN\n",
       "1     0.840                 51.97         NaN\n",
       "2     0.841                 51.95         NaN\n",
       "3     0.841                 51.93         NaN\n",
       "4     0.846                 51.91         NaN\n",
       "..      ...                   ...         ...\n",
       "98    2.908                 21.60         NaN\n",
       "99    4.050                 12.23         3.0\n",
       "100   4.820                  8.48         2.0\n",
       "101   5.420                  5.06         6.0\n",
       "102   5.810                  3.35         2.0\n",
       "\n",
       "[103 rows x 3 columns]"
      ]
     },
     "execution_count": 75,
     "metadata": {},
     "output_type": "execute_result"
    }
   ],
   "source": [
    "# this reads the sheet \"Evaluation-Retention Θ(pF)\" from the Excel file \"ret265WB.xlsx\" but does not assign it to any object\n",
    "pd.read_excel('ret265WB.xlsx',sheet_name='Evaluation-Retention Θ(pF)')"
   ]
  },
  {
   "cell_type": "markdown",
   "id": "oriental-activation",
   "metadata": {},
   "source": [
    "We have three files with data from soil water retention measurements. \n",
    "\n",
    "Let's first make life easy and check all file names in our folder using the library *glob*. `glob.glob(search.*)`\n",
    "\n",
    "Then prepare the data to be plotted in one figure."
   ]
  },
  {
   "cell_type": "code",
   "execution_count": 76,
   "id": "extra-repair",
   "metadata": {},
   "outputs": [
    {
     "data": {
      "image/png": "[encoded data removed]",
      "text/plain": [
       "<Figure size 288x288 with 1 Axes>"
      ]
     },
     "metadata": {},
     "output_type": "display_data"
    }
   ],
   "source": [
    "# Read soil water retention data\n",
    "\n",
    "# get list of excel files holding the results of the retention measurements:\n",
    "import glob\n",
    "fis = glob.glob('./ret*.xlsx')\n",
    "\n",
    "# read the files in the list fis by using the respective index 0, 1 and 2:\n",
    "ret = pd.read_excel(fis[0],sheet_name='Evaluation-Retention Θ(pF)')\n",
    "ret.columns = ['pF','theta','w']\n",
    "ret.theta *= 0.01\n",
    "ret['smpl']=fis[0][3:-5]\n",
    "\n",
    "ret1 = pd.read_excel(fis[1],sheet_name='Evaluation-Retention Θ(pF)')\n",
    "ret1.columns = ['pF','theta','w']\n",
    "ret1.theta *= 0.01\n",
    "ret1['smpl']=fis[1][3:-5]\n",
    "\n",
    "ret2 = pd.read_excel(fis[2],sheet_name='Evaluation-Retention Θ(pF)')\n",
    "ret2.columns = ['pF','theta','w']\n",
    "ret2.theta *= 0.01\n",
    "ret2['smpl']=fis[2][3:-5]\n",
    "\n",
    "# plot the data\n",
    "plot(10**ret.pF,ret.theta,'.',c='steelblue',alpha=0.5,label='soil 1')\n",
    "plot(10**ret1.pF,ret1.theta,'.',c='orange',alpha=0.5,label='soil 2')\n",
    "plot(10**ret2.pF,ret2.theta,'.',c='forestgreen',alpha=0.5,label='soil 3')\n",
    "\n",
    "legend()\n",
    "xlabel('tension (hPa)')\n",
    "ylabel('theta (m3/m3)')\n",
    "xscale('log')\n",
    "#yscale('log')\n",
    "sns.despine(offset=5)"
   ]
  },
  {
   "cell_type": "markdown",
   "id": "classified-oliver",
   "metadata": {},
   "source": [
    "As last step in this preparation, we will demonstrate how functions can ease the coding. You have seen a lot of redundancy in the cell above. Let's rewite the same step using a read function:"
   ]
  },
  {
   "cell_type": "code",
   "execution_count": 82,
   "id": "broke-diagnosis",
   "metadata": {},
   "outputs": [
    {
     "data": {
      "image/png": "[encoded data removed]",
      "text/plain": [
       "<Figure size 288x288 with 1 Axes>"
      ]
     },
     "metadata": {},
     "output_type": "display_data"
    }
   ],
   "source": [
    "def read_plot(fi, sn='Evaluation-Retention Θ(pF)'):\n",
    "    ret = pd.read_excel(fi,sheet_name=sn)\n",
    "    ret.columns = ['pF','theta','w']\n",
    "    ret.theta *= 0.01\n",
    "    ret['smpl'] = fi.split('.')[1][1:]\n",
    "    plot(10**ret.pF,ret.theta,'.',alpha=0.5,label=fi.split('.')[1][1:])\n",
    "    return ret\n",
    "\n",
    "fis = glob.glob('./ret*.xlsx')\n",
    "ret = read_plot(fis[0])\n",
    "ret1 = read_plot(fis[1])\n",
    "ret2 = read_plot(fis[2])\n",
    "\n",
    "legend()\n",
    "xlabel('tension (hPa)')\n",
    "ylabel('theta (m3/m3)')\n",
    "xscale('log')\n",
    "#yscale('log')\n",
    "sns.despine(offset=5)"
   ]
  },
  {
   "cell_type": "code",
   "execution_count": 85,
   "id": "canadian-youth",
   "metadata": {},
   "outputs": [
    {
     "data": {
      "image/png": "[encoded data removed]",
      "text/plain": [
       "<Figure size 288x288 with 1 Axes>"
      ]
     },
     "metadata": {},
     "output_type": "display_data"
    }
   ],
   "source": [
    "# and even more general:\n",
    "firstrun = True\n",
    "for fi in fis:\n",
    "    if firstrun:\n",
    "        ret = read_plot(fi)\n",
    "        firstrun = False\n",
    "    else:\n",
    "        ret = pd.concat([ret,read_plot(fi)])\n",
    "\n",
    "legend()\n",
    "xlabel('tension (hPa)')\n",
    "ylabel('theta (m3/m3)')\n",
    "xscale('log')\n",
    "#yscale('log')\n",
    "sns.despine(offset=5)"
   ]
  },
  {
   "cell_type": "markdown",
   "id": "suspected-information",
   "metadata": {},
   "source": [
    "Please play a little with the given examples. Check how to save the figures etc."
   ]
  },
  {
   "cell_type": "code",
   "execution_count": null,
   "id": "favorite-equivalent",
   "metadata": {},
   "outputs": [],
   "source": []
  }
 ],
 "metadata": {
  "kernelspec": {
   "display_name": "Python 3",
   "language": "python",
   "name": "python3"
  },
  "language_info": {
   "codemirror_mode": {
    "name": "ipython",
    "version": 3
   },
   "file_extension": ".py",
   "mimetype": "text/x-python",
   "name": "python",
   "nbconvert_exporter": "python",
   "pygments_lexer": "ipython3",
   "version": "3.7.2"
  }
 },
 "nbformat": 4,
 "nbformat_minor": 5
}
